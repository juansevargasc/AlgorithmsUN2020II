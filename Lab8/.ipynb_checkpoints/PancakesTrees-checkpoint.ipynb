{
 "cells": [
  {
   "cell_type": "markdown",
   "metadata": {
    "id": "oF910wotM9TB"
   },
   "source": [
    "# Laboratorio 8 Pancakes Problem\n",
    "Juan Sebastian Montoya Combita"
   ]
  },
  {
   "cell_type": "code",
   "execution_count": 1,
   "metadata": {
    "id": "mHysDrl0M976"
   },
   "outputs": [
    {
     "ename": "ModuleNotFoundError",
     "evalue": "No module named 'pydot'",
     "output_type": "error",
     "traceback": [
      "\u001b[0;31m---------------------------------------------------------------------------\u001b[0m",
      "\u001b[0;31mModuleNotFoundError\u001b[0m                       Traceback (most recent call last)",
      "\u001b[0;32m<ipython-input-1-b8ff667ccb4f>\u001b[0m in \u001b[0;36m<module>\u001b[0;34m\u001b[0m\n\u001b[0;32m----> 1\u001b[0;31m \u001b[0;32mimport\u001b[0m \u001b[0mpydot\u001b[0m\u001b[0;34m\u001b[0m\u001b[0;34m\u001b[0m\u001b[0m\n\u001b[0m\u001b[1;32m      2\u001b[0m \u001b[0;32mimport\u001b[0m \u001b[0mitertools\u001b[0m\u001b[0;34m\u001b[0m\u001b[0;34m\u001b[0m\u001b[0m\n\u001b[1;32m      3\u001b[0m \u001b[0;32mfrom\u001b[0m \u001b[0mcollections\u001b[0m \u001b[0;32mimport\u001b[0m \u001b[0mdefaultdict\u001b[0m\u001b[0;34m\u001b[0m\u001b[0;34m\u001b[0m\u001b[0m\n\u001b[1;32m      4\u001b[0m \u001b[0;32mfrom\u001b[0m \u001b[0mIPython\u001b[0m\u001b[0;34m.\u001b[0m\u001b[0mdisplay\u001b[0m \u001b[0;32mimport\u001b[0m \u001b[0mImage\u001b[0m\u001b[0;34m,\u001b[0m \u001b[0mdisplay\u001b[0m\u001b[0;34m\u001b[0m\u001b[0;34m\u001b[0m\u001b[0m\n",
      "\u001b[0;31mModuleNotFoundError\u001b[0m: No module named 'pydot'"
     ]
    }
   ],
   "source": [
    "import pydot\n",
    "import itertools\n",
    "from collections import defaultdict \n",
    "from IPython.display import Image, display"
   ]
  },
  {
   "cell_type": "code",
   "execution_count": null,
   "metadata": {
    "id": "M61IVLcZPfa5"
   },
   "outputs": [],
   "source": [
    "def lstr(p):\n",
    "        return ''.join([str(elem)  for elem in p])"
   ]
  },
  {
   "cell_type": "code",
   "execution_count": null,
   "metadata": {
    "id": "xkDbCWxpt8Fc"
   },
   "outputs": [],
   "source": [
    "def pancakestree(s):  #función completa (con parte gráfica de pancakest trees)\n",
    "        # Create dictionaries graph,visited and pydot graph G\n",
    "        graph = defaultdict()\n",
    "        visited = defaultdict()\n",
    "        G = pydot.Dot(graph_type=\"digraph\")\n",
    "        Pn=0\n",
    "        # Create a queue for BFS \n",
    "        queue = [] \n",
    "  \n",
    "        # Mark the source node as visited and enqueue it \n",
    "        queue.append([s,0]) \n",
    "        visited[lstr(s)] = True\n",
    "  \n",
    "        while queue: \n",
    "            # Dequeue a vertex from queue \n",
    "            e = queue.pop(0)\n",
    "            s = e[0]\n",
    "            l = e[1] \n",
    "            graph[lstr(s)]=[]\n",
    "\n",
    "            flag = False\n",
    "            for i in range(len(s)-1):\n",
    "                d = s[i+1::-1] + s[i+2:]\n",
    "                if(d == sorted(d)):\n",
    "                     flag = True\n",
    "            if flag:\n",
    "              node = pydot.Node(lstr(s),style=\"filled\", fillcolor=\"yellow\")\n",
    "            else: \n",
    "              node = pydot.Node(lstr(s))\n",
    "\n",
    "            G.add_node(node)\n",
    "            \n",
    "            # Get all adjacent vertices of the \n",
    "            # dequeued vertex s. If a adjacent \n",
    "            # has not been visited, then mark it \n",
    "            # visited and enqueue it \n",
    "            if(s != sorted(s)):\n",
    "              for i in range(len(s)-1):\n",
    "                d = s[i+1::-1] + s[i+2:]  \n",
    "                if (d != s) and not(lstr(d) in visited.keys()):\n",
    "                 \n",
    "                  if (d != sorted(d)):\n",
    "                    node = pydot.Node(lstr(d))\n",
    "                  else:\n",
    "                    node = pydot.Node(lstr(d),style=\"filled\", fillcolor=\"green\") # first sorted green\n",
    "                    Pn=l+1\n",
    "                  G.add_node(node)\n",
    "                  edge = pydot.Edge(lstr(s),lstr(d))\n",
    "                  G.add_edge(edge)\n",
    "                  graph[lstr(s)].append(lstr(d))\n",
    "                  queue.append([d,l+1]) \n",
    "                  visited[lstr(d)] = True \n",
    "              \n",
    "        #Display the pydot graph G\n",
    "        im = Image(G.create_png())\n",
    "        display(im)\n",
    "        return (Pn)"
   ]
  },
  {
   "cell_type": "markdown",
   "metadata": {
    "id": "63KrqnmGV_ZK"
   },
   "source": [
    "Función que generará todas las permutaciones posibles de los pancakes Excepto la lista ordenada $n!$"
   ]
  },
  {
   "cell_type": "code",
   "execution_count": null,
   "metadata": {
    "id": "4Kdu5n147QJ8"
   },
   "outputs": [],
   "source": [
    "def permutacion(pancakes):\n",
    "  permutaciones= pancakes.copy()\n",
    "  return (list(itertools.permutations(permutaciones)))"
   ]
  },
  {
   "cell_type": "code",
   "execution_count": null,
   "metadata": {
    "id": "4jfnx0WiWaa5"
   },
   "outputs": [],
   "source": [
    "def simulacionpn(s):  #funcion pancakes tree sin aprte gráfica\n",
    "        # Create dictionaries graph,visited and pydot graph G\n",
    "        graph = defaultdict()\n",
    "        visited = defaultdict()\n",
    "        Pn=0\n",
    "        # Create a queue for BFS \n",
    "        queue = [] \n",
    "        # Mark the source node as visited and enqueue it \n",
    "        queue.append([s,0]) \n",
    "        visited[lstr(s)] = True\n",
    "  \n",
    "        while queue: \n",
    "            # Dequeue a vertex from queue \n",
    "            e = queue.pop(0)\n",
    "            s = e[0]\n",
    "            l = e[1] \n",
    "            graph[lstr(s)]=[]\n",
    "\n",
    "            flag = False\n",
    "            for i in range(len(s)-1):\n",
    "                d = s[i+1::-1] + s[i+2:]\n",
    "                if(d == sorted(d)):\n",
    "                     flag = True \n",
    "            # Get all adjacent vertices of the \n",
    "            # dequeued vertex s. If a adjacent \n",
    "            # has not been visited, then mark it \n",
    "            # visited and enqueue it \n",
    "            if(s != sorted(s)):\n",
    "              for i in range(len(s)-1):\n",
    "                d = s[i+1::-1] + s[i+2:]  \n",
    "                if (d != s) and not(lstr(d) in visited.keys()):\n",
    "                  if (d == sorted(d)):\n",
    "                    Pn=l+1\n",
    "                  graph[lstr(s)].append(lstr(d))\n",
    "                  queue.append([d,l+1]) \n",
    "                  visited[lstr(d)] = True \n",
    "        \n",
    "        return (Pn)"
   ]
  },
  {
   "cell_type": "markdown",
   "metadata": {
    "id": "FsM5e5FtMip9"
   },
   "source": [
    "# 1.   Modifique el código del arbol de pancakes graficando su propia red de pancakes y calcule el $P_{n}$ para pequeños $n's$\n",
    "\n"
   ]
  },
  {
   "cell_type": "markdown",
   "metadata": {
    "id": "HSJBgkZ7M8mO"
   },
   "source": [
    "Primero se plante la función del calculo de P(n)"
   ]
  },
  {
   "cell_type": "code",
   "execution_count": null,
   "metadata": {
    "id": "Pk09lumKXODN"
   },
   "outputs": [],
   "source": [
    "def calculopn(n, punto): #obtiene todas las combinaciones posibles para un n dado, y a partir de las permutaciones escoge con mayor valor Pn\n",
    "  lista= list(range(1,n+1))\n",
    "  combinaciones= permutacion(lista)\n",
    "  valorpn=-1\n",
    "  listapn= []\n",
    "  for i in combinaciones:\n",
    "    #print(i)\n",
    "    Pn= simulacionpn(list(i).copy())\n",
    "    #print(Pn)\n",
    "    if (valorpn < Pn):\n",
    "      valorpn=Pn\n",
    "      listapn=list(i).copy()\n",
    "  if punto: #para el punto 1 que necesita valor Pn y su gráfica\n",
    "    return (valorpn, listapn)\n",
    "  else: #para el punto 2 solo requiere el valor Pn\n",
    "    return (valorpn)"
   ]
  },
  {
   "cell_type": "markdown",
   "metadata": {
    "id": "RJijNCYINj4V"
   },
   "source": [
    "Se ejecutará desde $n=1$ hasta $n=5$ con su respectivo $P_{n}$"
   ]
  },
  {
   "cell_type": "code",
   "execution_count": null,
   "metadata": {
    "colab": {
     "base_uri": "https://localhost:8080/",
     "height": 1000
    },
    "id": "_TBZMY5pDMnB",
    "outputId": "b3e4573a-3cdf-429a-c383-f86758db6e97"
   },
   "outputs": [],
   "source": [
    "for j in range(1,6,1):\n",
    "  valorpn, listapn = calculopn(j, True)\n",
    "  print('El valor Pn para n=',j,' es de ', valorpn)\n",
    "  pancakestree(listapn)"
   ]
  },
  {
   "cell_type": "markdown",
   "metadata": {
    "id": "GMsrFF4_RQ0u"
   },
   "source": [
    "# 2.   Modifique el código de arbol de pancakes dejando solamente el código y estructuras de datos necesarias para calcular el $P_{n}$ y ejecute el código al menos una noche (8 horas) iniciando con $n=5$. ¿Cúal es el mayor valor de $P_{n}$ calculado?\n",
    "\n"
   ]
  },
  {
   "cell_type": "code",
   "execution_count": null,
   "metadata": {
    "colab": {
     "base_uri": "https://localhost:8080/"
    },
    "id": "IjnVavhcDhjs",
    "outputId": "92a389df-2528-4df4-ad7c-c8c7c9f68838"
   },
   "outputs": [],
   "source": [
    "stop=True\n",
    "k=1\n",
    "while (stop):\n",
    "  valorpn = calculopn(k,False)\n",
    "  print('El valor Pn para n=',k,' es de ', valorpn)\n",
    "  k+=1"
   ]
  },
  {
   "cell_type": "markdown",
   "metadata": {
    "id": "I3QbWFauSiVv"
   },
   "source": [
    "# 3.   Modifique el código de arbol de pancakes para graficar los arboles de pancakes usando dos espátulas\n",
    "\n"
   ]
  },
  {
   "cell_type": "code",
   "execution_count": null,
   "metadata": {
    "id": "N4bhMrJBSvdq"
   },
   "outputs": [],
   "source": [
    "def two_spatulas(s, L):  \n",
    "\n",
    "        # Create dictionaries graph,visited and pydot graph G\n",
    "        graph = defaultdict()\n",
    "        visited = defaultdict()\n",
    "        G = pydot.Dot(graph_type=\"digraph\")\n",
    "        \n",
    "        # Create a queue for BFS \n",
    "        queue = [] \n",
    "  \n",
    "        # Mark the source node as visited and enqueue it \n",
    "        queue.append([s,0]) \n",
    "        visited[lstr(s)] = True\n",
    "  \n",
    "        while queue: \n",
    "  \n",
    "            # Dequeue a vertex from queue \n",
    "            e = queue.pop(0)\n",
    "            s = e[0]\n",
    "            l = e[1] \n",
    "            graph[lstr(s)]=[]\n",
    "\n",
    "            flag = False\n",
    "            \n",
    "            for i in list(range(len(s) - 1)):\n",
    "              first = list( range(len(s) - (i + 1) ) )#Flipping first part that spatula takes\n",
    "              for j in first[::-1]: \n",
    "                second = s[j:len(s) - i] \n",
    "                d = s[0:j] + second[::-1] + s[len(s) - i : ] #Flipping second part that spatula takes.\n",
    "                if(d == sorted(d)):\n",
    "                     flag = True\n",
    "              if flag:\n",
    "                node = pydot.Node(lstr(s),style=\"filled\", fillcolor=\"yellow\")\n",
    "              else: \n",
    "                node = pydot.Node(lstr(s))\n",
    "\n",
    "              G.add_node(node)\n",
    "            \n",
    "            # Get all adjacent vertices of the \n",
    "            # dequeued vertex s. If a adjacent \n",
    "            # has not been visited, then mark it \n",
    "            # visited and enqueue it \n",
    "            if(s != sorted(s)) and (l < L):\n",
    "              for i in list(range(len(s) - 1)):\n",
    "                first = list(range(len(s) - (i + 1)))\n",
    "                for j in first[::-1]:\n",
    "                  second = s[j:len(s) - i]\n",
    "                  d = s[0:j] + second[::-1] + s[len(s) - i :] \n",
    "                  if (d != s) and not(lstr(d) in visited.keys()):\n",
    "                    if(d != sorted(d)):\n",
    "                      node = pydot.Node(lstr(d))\n",
    "                    else:\n",
    "                      node = pydot.Node(lstr(d),style=\"filled\", fillcolor=\"green\") # first sorted green\n",
    "                      print(\"Pn: \", l + 1)\n",
    "\n",
    "                    \n",
    "                    G.add_node(node)\n",
    "                    edge = pydot.Edge(lstr(s),lstr(d))\n",
    "                    G.add_edge(edge)\n",
    "                    graph[lstr(s)].append(lstr(d))\n",
    "                    queue.append([d,l+1]) \n",
    "                    visited[lstr(d)] = True \n",
    "                \n",
    "        # Display the pydot graph G\n",
    "        im = Image(G.create_png())\n",
    "        display(im)"
   ]
  },
  {
   "cell_type": "code",
   "execution_count": null,
   "metadata": {},
   "outputs": [],
   "source": [
    "p = [3,1,2]\n",
    "two_spatulas(p, 3)"
   ]
  },
  {
   "cell_type": "code",
   "execution_count": null,
   "metadata": {},
   "outputs": [],
   "source": []
  }
 ],
 "metadata": {
  "colab": {
   "collapsed_sections": [],
   "name": "PancakesTrees.ipynb",
   "provenance": []
  },
  "kernelspec": {
   "display_name": "Python 3",
   "language": "python",
   "name": "python3"
  },
  "language_info": {
   "codemirror_mode": {
    "name": "ipython",
    "version": 3
   },
   "file_extension": ".py",
   "mimetype": "text/x-python",
   "name": "python",
   "nbconvert_exporter": "python",
   "pygments_lexer": "ipython3",
   "version": "3.8.3"
  }
 },
 "nbformat": 4,
 "nbformat_minor": 1
}
